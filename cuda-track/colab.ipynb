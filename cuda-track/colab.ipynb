{
  "cells": [
    {
      "cell_type": "markdown",
      "metadata": {
        "colab_type": "text",
        "id": "view-in-github"
      },
      "source": [
        "<a href=\"https://colab.research.google.com/github/ian-ofgod/hpdga-autumn22/blob/main/cuda-track/colab.ipynb\" target=\"_parent\"><img src=\"https://colab.research.google.com/assets/colab-badge.svg\" alt=\"Open In Colab\"/></a>"
      ]
    },
    {
      "cell_type": "code",
      "execution_count": null,
      "metadata": {
        "id": "qeKo69RSz6Tq"
      },
      "outputs": [],
      "source": [
        "## THIS CELL IS USED CLONE YOUR PRIVATE REPOSITORY\n",
        "## to generate fine-grained token: https://docs.github.com/en/authentication/keeping-your-account-and-data-secure/creating-a-personal-access-token\n",
        "TOKEN = \"XXXXX\"                                   # CHANGE\n",
        "REPO_URL= \"github.com/USERNAME/REPO_NAME.git\"     # CHANGE\n",
        "USER_NAME = \"USERNAME\"                            # CHANGE\n",
        "USER_EMAIL = \"GITHUB_MAIL\"                        # CHANGE\n",
        "\n",
        "!git clone https://oauth2:$TOKEN@$REPO_URL\n",
        "%cd REPO_NAME/                                    # CHANGE\n",
        "!git remote set-url origin  https://oauth2:$TOKEN@$REPO_URL\n",
        "!git config user.name $USER_NAME\n",
        "!git config user.email $USER_EMAIL\n",
        "%cd cuda-track"
      ]
    },
    {
      "cell_type": "code",
      "execution_count": null,
      "metadata": {
        "id": "qkEYcWUBt5u8"
      },
      "outputs": [],
      "source": [
        "# COMMIT CHANGES\n",
        "\n",
        "#!git add                     # place the filename after add --> !git add file1 file2 file3\n",
        "!git add -A                   # commit all files\n",
        "!git commit -m \"TEST\" # change with a relevant commit message"
      ]
    },
    {
      "cell_type": "code",
      "execution_count": null,
      "metadata": {
        "id": "evSAUPzh4QHw"
      },
      "outputs": [],
      "source": [
        "# PUSH CHANGES\n",
        "!git push"
      ]
    },
    {
      "cell_type": "code",
      "execution_count": null,
      "metadata": {
        "id": "7Qm2dA8GXrf9"
      },
      "outputs": [],
      "source": [
        "# PULL CHANGES\n",
        "!git pull"
      ]
    },
    {
      "cell_type": "code",
      "execution_count": null,
      "metadata": {
        "id": "vOWACMzbyDh6"
      },
      "outputs": [],
      "source": [
        "# BUILD YOUR EXECUTABLE\n",
        "\n",
        "!mkdir exec & make"
      ]
    },
    {
      "cell_type": "code",
      "execution_count": null,
      "metadata": {
        "id": "kSZQHBcSuT-6"
      },
      "outputs": [],
      "source": [
        "# RUN YOUR EXECUTABLE\n",
        "\n",
        "!./exec/gcn-seq cora"
      ]
    }
  ],
  "metadata": {
    "colab": {
      "include_colab_link": true,
      "provenance": []
    },
    "kernelspec": {
      "display_name": "Python 3",
      "name": "python3"
    },
    "language_info": {
      "name": "python"
    }
  },
  "nbformat": 4,
  "nbformat_minor": 0
}
